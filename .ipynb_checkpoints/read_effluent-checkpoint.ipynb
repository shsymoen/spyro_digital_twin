{
 "cells": [
  {
   "cell_type": "code",
   "execution_count": 23,
   "metadata": {},
   "outputs": [],
   "source": [
    "import pandas as pd\n",
    "import numpy as np\n",
    "import matplotlib.pyplot as plt\n",
    "import re\n",
    "\n",
    "%matplotlib notebook"
   ]
  },
  {
   "cell_type": "code",
   "execution_count": 2,
   "metadata": {},
   "outputs": [],
   "source": [
    "\n",
    "%matplotlib notebook"
   ]
  },
  {
   "cell_type": "code",
   "execution_count": 114,
   "metadata": {},
   "outputs": [
    {
     "name": "stdout",
     "output_type": "stream",
     "text": [
      "WH2 3.292772 WCH4 3.653542 WC2H2 0.17567 WC2H4 44.433216 WC2H6 44.381168 WC3H4 0.014571 WC3H6 1.091814 WC3H8 0.166108 WNBUTA 0.457654 WIBUTA 0.000461 WIB 0.001583 WB1 0.089061 WB2 0.06489 WBUTAD 0.857154 WBENZ 0.594098 WTOLUO 0.070537 WXILO 0.0016 WEBENZ 0.002707 WSTYR 0.052596 WC9ARO 0.000236 WNC5 0 WIC5 0 WNC6 0 WNC7 0 WNC8 0 WNC9 0 WNC10 0 WUND1 0 WCPTAN 0.000747 WMCPTA 0 WCESAN 0 WC7NAF 0 WC8NAF 0 WC9NAF 0 WB2M2 0 WP1 0.024877 WFUEL1 0.049132 WB1M2 0.000042 WMMCSE 0.000012 WC10IS 0 WPTD 0.018639 WISOPR 0.000738 WAOLC6 0.000174 WMCESE 0.000898 WC6ISO 0 WESIJ 0.000364 WPIJMK 0.000088 WAOLC7 0.000001 WMCP 0.001151 WC7ISO 0 WEIJMK 0.000019 WCPTD 0.210808 WAOLC8 0 WCC5H8 0.128438 WC8ISO 0 WC9ISO 0 WCESEN 0.014636 WDIAL 0.000413 WC4H4 0.014658 WMSTYR 0.003354 WDMSTY 0.000059 WFUEL2 0.000679 WFUEL3 0.034538 WMCPTD 0.00555 WC7H10 0.007577 WINDEN 0.00615 WFUEL4 0.002778 WNC15 0 WNAF15 0 WNAF20 0 WOLN11 0 WOLN16 0 WC15AR 0 WC20AR 0 WDNA20 0 WNC20 0 WISO20 0 WC15CO 0.000008 WC20CO 0.000003 WISO15 0 WOLC11 0 WOLC16 0 WDIA7 0.000206 WDIA14 0 WDNA15 0 WCH32 0.000103 WC1924 0.000001 WNC30 0 WISO30 0 WEIC1 0 WOLC20 0 WOLC25 0 WNAF25 0 WNAF35 0 WC25AR 0 WC35AR 0 WPNA25 0 WPNA30 0 WPCO25 0.000001 WFUE32 0.000453 WFUE43 0.001029 WPES32 0.022612 WPES42 0.002677 WNAF12 0 WDNA11 0 WC12AR 0.000001 WC12CO 0.00001 WPCO30 0 WPNA16 0 WP2 0.003933 WES1 0.006046 WP2M 0.000003 WOCT1 0 WNC25 0 WISO25 0 WNC35 0 WISO35 0 WEXA1 0 WPEIC1 0 WNAF30 0 WC30AR 0 WB1M3 0.002447 WESEX 0.000002 WP1M 0.000004 WEPT1 0 WCO 0.029403 WCO2 0.003069 VH2 32.645161 VCH4 4.552011 VC2H2 0.134856 VC2H4 31.658598 VC2H6 29.501352 VC3H4 0.007269 VC3H6 0.518611 VC3H8 0.075294 VNBUTA 0.157384 VIBUTA 0.000159 VIB 0.000564 VB1 0.031728 VB2 0.023117 VBUTAD 0.316742 VBENZ 0.152023 VTOLUO 0.015302 VXILO 0.000301 VEBENZ 0.00051 VSTYR 0.010094 VC9ARO 0.000039 VNC5 0 VIC5 0 VNC6 0 VNC7 0 VNC8 0 VNC9 0 VNC10 0 VUND1 0 VCPTAN 0.000213 VMCPTA 0 VCESAN 0 VC7NAF 0 VC8NAF 0 VC9NAF 0 VB2M2 0 VP1 0.00709 VFUEL1 0.007662 VB1M2 0.000012 VMMCSE 0.000002 VC10IS 0 VPTD 0.005469 VISOPR 0.000216 VAOLC6 0.000041 VMCESE 0.000187 VC6ISO 0 VESIJ 0.000088 VPIJMK 0.000021 VAOLC7 0 VMCP 0.00028 VC7ISO 0 VEIJMK 0.000004 VCPTD 0.063745 VAOLC8 0 VCC5H8 0.037688 VC8ISO 0 VC9ISO 0 VCESEN 0.003561 VDIAL 0.000101 VC4H4 0.005626 VMSTYR 0.000567 VDMSTY 0.000009 VFUEL2 0.000065 VFUEL3 0.00338 VMCPTD 0.001385 VC7H10 0.001609 VINDEN 0.001058 VFUEL4 0.000197 VNC15 0 VNAF15 0 VNAF20 0 VOLN11 0 VOLN16 0 VC15AR 0 VC20AR 0 VDNA20 0 VNC20 0 VISO20 0 VC15CO 0.000001 VC20CO 0 VISO15 0 VOLC11 0 VOLC16 0 VDIA7 0.000043 VDIA14 0 VDNA15 0 VCH32 0.000005 VC1924 0 VNC30 0 VISO30 0 VEIC1 0 VOLC20 0 VOLC25 0 VNAF25 0 VNAF35 0 VC25AR 0 VC35AR 0 VPNA25 0 VPNA30 0 VPCO25 0 VFUE32 0.000022 VFUE43 0.00004 VPES32 0.001117 VPES42 0.000101 VNAF12 0 VDNA11 0 VC12AR 0 VC12CO 0.000001 VPCO30 0 VPNA16 0 VP2 0.001121 VES1 0.001436 VP2M 0.000001 VOCT1 0 VNC25 0 VISO25 0 VNC35 0 VISO35 0 VEXA1 0 VPEIC1 0 VNAF30 0 VC30AR 0 VB1M3 0.000697 VESEX 0 VP1M 0.000001 VEPT1 0 VCO 0.048932 VCO2 0.005108 WB2C 0.027254 WB2T 0.037636 WBUTES 0.155534 WBUTAS 0.458115 WC5PAR 0 WOXYL 0.000475 WMXYL 0.000769 WPXYL 0.000356 WC6NA 0.02843 WC7NA 0.008703 WC8NA 0.000012 WC9AR 0.008391 WC9NA 0 WTOTC5 0.390669 WC5+ 0.882505 WTOTC10 0.040713 WC10+ 0.115432 WTOTC11 0.00983 WC12+ 0.064889 WC1216 0.010579 WC1724 0.027435 WC25+ 0.026874 VBUTES 0.055409 VBUTAS 0.157542 VOXYL 0.000089 VMXYL 0.000145 VPXYL 0.000067 VC6NA 0.006916 VC7NA 0.001842 VC8NA 0.000002 VC9AR 0.001433 VC9NA 0 VTOTC5 0.116252 VC5+ 0.201255 VTOTC10 0.00637 VC10+ 0.012831 VTOTC11 0.001533 VC12+ 0.004928 VC1216 0.001035 VC1724 0.002608 VC25+ 0.001285 RC4H4 0.986782 RBUTAD 57.702858 RB1 5.99554 RB2C 1.834711 RB2T 2.533648 RIB 0.106535 RNBUTA 30.808867 RIBUTA 0.031054 RC5PAR 0 RP1 6.367692 RP2 1.006807 RB1M2 0.01071 RB1M3 0.626407 RB2M2 0.000113 RPTD 4.770997 RISOPR 0.188823 RCPTAN 0.191317 RCC5H8 32.876293 RCPTD 53.960838 MPRAT 3.346304 PERAT 0.024572 C3ERAT 0.015884 HCAVER 2.985327 HCWCOO 2.98654 HCC5+ 1.126563 HCC10+ 0.750453 HCC1216 0.757736 HCC1724 0.763316 HCC25+ 0.63556 STEAM 23.035904 MWC1216 204.326462 MWC1724 210.25766 MWC25+ 417.895935 WC5C9 1.157743 VC5C9 0.304676 AMWWET 19.494816 CONVKEY 0.549932 WC3MEA 0.008606 WPRPD 0.005965 VC3MEA 0.004293 VPRPD 0.002976 PLACE 5 \n",
      "\n"
     ]
    },
    {
     "data": {
      "text/html": [
       "<div>\n",
       "<style scoped>\n",
       "    .dataframe tbody tr th:only-of-type {\n",
       "        vertical-align: middle;\n",
       "    }\n",
       "\n",
       "    .dataframe tbody tr th {\n",
       "        vertical-align: top;\n",
       "    }\n",
       "\n",
       "    .dataframe thead th {\n",
       "        text-align: right;\n",
       "    }\n",
       "</style>\n",
       "<table border=\"1\" class=\"dataframe\">\n",
       "  <thead>\n",
       "    <tr style=\"text-align: right;\">\n",
       "      <th></th>\n",
       "      <th>Value</th>\n",
       "    </tr>\n",
       "    <tr>\n",
       "      <th>Component</th>\n",
       "      <th></th>\n",
       "    </tr>\n",
       "  </thead>\n",
       "  <tbody>\n",
       "    <tr>\n",
       "      <td>WH2</td>\n",
       "      <td>3.292772</td>\n",
       "    </tr>\n",
       "    <tr>\n",
       "      <td>WCH4</td>\n",
       "      <td>3.653542</td>\n",
       "    </tr>\n",
       "    <tr>\n",
       "      <td>WC2H2</td>\n",
       "      <td>0.17567</td>\n",
       "    </tr>\n",
       "    <tr>\n",
       "      <td>WC2H4</td>\n",
       "      <td>44.433216</td>\n",
       "    </tr>\n",
       "    <tr>\n",
       "      <td>WC2H6</td>\n",
       "      <td>44.381168</td>\n",
       "    </tr>\n",
       "    <tr>\n",
       "      <td>...</td>\n",
       "      <td>...</td>\n",
       "    </tr>\n",
       "    <tr>\n",
       "      <td>WC3MEA</td>\n",
       "      <td>0.008606</td>\n",
       "    </tr>\n",
       "    <tr>\n",
       "      <td>WPRPD</td>\n",
       "      <td>0.005965</td>\n",
       "    </tr>\n",
       "    <tr>\n",
       "      <td>VC3MEA</td>\n",
       "      <td>0.004293</td>\n",
       "    </tr>\n",
       "    <tr>\n",
       "      <td>VPRPD</td>\n",
       "      <td>0.002976</td>\n",
       "    </tr>\n",
       "    <tr>\n",
       "      <td>PLACE</td>\n",
       "      <td>5</td>\n",
       "    </tr>\n",
       "  </tbody>\n",
       "</table>\n",
       "<p>337 rows × 1 columns</p>\n",
       "</div>"
      ],
      "text/plain": [
       "               Value\n",
       "Component           \n",
       "WH2         3.292772\n",
       "WCH4        3.653542\n",
       "WC2H2        0.17567\n",
       "WC2H4      44.433216\n",
       "WC2H6      44.381168\n",
       "...              ...\n",
       "WC3MEA      0.008606\n",
       "WPRPD       0.005965\n",
       "VC3MEA      0.004293\n",
       "VPRPD       0.002976\n",
       "PLACE              5\n",
       "\n",
       "[337 rows x 1 columns]"
      ]
     },
     "execution_count": 114,
     "metadata": {},
     "output_type": "execute_result"
    }
   ],
   "source": [
    "effl_df = 0\n",
    "\n",
    "with open(\"B100_55-_conversion.eof\", \"r\") as f:\n",
    "    f_str = f.read()\n",
    "    effl_start_semi = f_str.rfind(\"[EFFLUENT]\")\n",
    "    effl_start = f_str.find(\" \", effl_start_semi)\n",
    "    effl_end = f_str.rfind(\"[EFFLUENT END]\")\n",
    "    effl_str = f_str[effl_start+1 : effl_end]\n",
    "    print(effl_str)\n",
    "    d = re.findall(r\"([^\\s]+)\\s([0-9\\.]+)\", effl_str)\n",
    "\n",
    "    effl_df = pd.DataFrame(d, columns=[\"Component\", \"Value\"])\n",
    "effl_df = effl_df.set_index(\"Component\")\n",
    "effl_df[\"Value\"].astype('float64')\n",
    "effl_df"
   ]
  },
  {
   "cell_type": "code",
   "execution_count": 118,
   "metadata": {},
   "outputs": [],
   "source": [
    "effluent = {}\n",
    "\n",
    "effluent_list = [\"wt\", \"vol\", \"RC4\",\"RC4-pygas\", \"Pygas\", \"H/C ratio\", \"MW\", \"misc\"]\n",
    "for effluent_sublist in effluent_list:\n",
    "    effluent[effluent_sublist] = {}\n",
    "\n",
    "for component in effl_df.index:\n",
    "    if component[0] == \"W\":\n",
    "        effluent[\"wt\"][component[1:]] = effl_df.loc[component, 'Value']\n",
    "    elif component[0] == \"V\":\n",
    "        effluent[\"vol\"][component[1:]] = effl_df.loc[component, 'Value']\n",
    "    elif component[0] == \"R\":\n",
    "        effluent[\"RC4-pygas\"][component[1:]] = effl_df.loc[component, 'Value']\n",
    "    elif component[0: 2] == \"HC\":\n",
    "        effluent[\"H/C ratio\"][component[2:]] = effl_df.loc[component, 'Value']\n",
    "    elif component[0: 2] == \"MW\":\n",
    "        effluent[\"MW\"][component[2:]] = effl_df.loc[component, 'Value']\n",
    "    else:\n",
    "        effluent[\"misc\"][component] = effl_df.loc[component, 'Value']\n",
    "        \n",
    "for effluent_sub in effluent:\n",
    "    effluent[effluent_sub] = pd.Series(effluent[effluent_sub]).astype(\"float64\")"
   ]
  },
  {
   "cell_type": "code",
   "execution_count": 126,
   "metadata": {},
   "outputs": [],
   "source": [
    " raw_c4_comps = [\n",
    "     \"C4H4\",\n",
    "     \"BUTAD\",\n",
    "     \"B1\",\n",
    "     \"B2C\",\n",
    "     \"B2T\",\n",
    "     \"IB\",\n",
    "     \"NBUTA\",\n",
    "     \"IBUTA\",\n",
    " ]\n",
    "effluent[\"RC4\"] = effluent[\"RC4-pygas\"].loc[raw_c4_comps]\n",
    "effluent[\"Pygas\"] = effluent[\"RC4-pygas\"].loc[~effluent[\"RC4-pygas\"].index.isin(raw_c4_comps)]"
   ]
  },
  {
   "cell_type": "code",
   "execution_count": 127,
   "metadata": {},
   "outputs": [
    {
     "name": "stdout",
     "output_type": "stream",
     "text": [
      "C4H4      0.986782\n",
      "BUTAD    57.702858\n",
      "B1        5.995540\n",
      "B2C       1.834711\n",
      "B2T       2.533648\n",
      "IB        0.106535\n",
      "NBUTA    30.808867\n",
      "IBUTA     0.031054\n",
      "dtype: float64\n",
      "99.999995\n"
     ]
    }
   ],
   "source": [
    "print(effluent[\"RC4\"])\n",
    "print(effluent[\"RC4\"].sum())"
   ]
  },
  {
   "cell_type": "code",
   "execution_count": 128,
   "metadata": {},
   "outputs": [
    {
     "name": "stdout",
     "output_type": "stream",
     "text": [
      "C5PAR     0.000000\n",
      "P1        6.367692\n",
      "P2        1.006807\n",
      "B1M2      0.010710\n",
      "B1M3      0.626407\n",
      "B2M2      0.000113\n",
      "PTD       4.770997\n",
      "ISOPR     0.188823\n",
      "CPTAN     0.191317\n",
      "CC5H8    32.876293\n",
      "CPTD     53.960838\n",
      "dtype: float64\n",
      "99.99999700000001\n"
     ]
    }
   ],
   "source": [
    "print(effluent[\"Pygas\"])\n",
    "print(effluent[\"Pygas\"].sum())"
   ]
  },
  {
   "cell_type": "code",
   "execution_count": 121,
   "metadata": {},
   "outputs": [
    {
     "data": {
      "text/plain": [
       "MPRAT       3.346304\n",
       "PERAT       0.024572\n",
       "C3ERAT      0.015884\n",
       "STEAM      23.035904\n",
       "AMWWET     19.494816\n",
       "CONVKEY     0.549932\n",
       "PLACE       5.000000\n",
       "dtype: float64"
      ]
     },
     "execution_count": 121,
     "metadata": {},
     "output_type": "execute_result"
    }
   ],
   "source": [
    "effluent[\"misc\"]"
   ]
  },
  {
   "cell_type": "code",
   "execution_count": 136,
   "metadata": {},
   "outputs": [
    {
     "data": {
      "text/html": [
       "<div>\n",
       "<style scoped>\n",
       "    .dataframe tbody tr th:only-of-type {\n",
       "        vertical-align: middle;\n",
       "    }\n",
       "\n",
       "    .dataframe tbody tr th {\n",
       "        vertical-align: top;\n",
       "    }\n",
       "\n",
       "    .dataframe thead th {\n",
       "        text-align: right;\n",
       "    }\n",
       "</style>\n",
       "<table border=\"1\" class=\"dataframe\">\n",
       "  <thead>\n",
       "    <tr style=\"text-align: right;\">\n",
       "      <th></th>\n",
       "      <th>wt</th>\n",
       "      <th>vol</th>\n",
       "    </tr>\n",
       "  </thead>\n",
       "  <tbody>\n",
       "    <tr>\n",
       "      <td>H2</td>\n",
       "      <td>3.292772</td>\n",
       "      <td>32.645161</td>\n",
       "    </tr>\n",
       "    <tr>\n",
       "      <td>CH4</td>\n",
       "      <td>3.653542</td>\n",
       "      <td>4.552011</td>\n",
       "    </tr>\n",
       "    <tr>\n",
       "      <td>C2H2</td>\n",
       "      <td>0.175670</td>\n",
       "      <td>0.134856</td>\n",
       "    </tr>\n",
       "    <tr>\n",
       "      <td>C2H4</td>\n",
       "      <td>44.433216</td>\n",
       "      <td>31.658598</td>\n",
       "    </tr>\n",
       "    <tr>\n",
       "      <td>C2H6</td>\n",
       "      <td>44.381168</td>\n",
       "      <td>29.501352</td>\n",
       "    </tr>\n",
       "    <tr>\n",
       "      <td>...</td>\n",
       "      <td>...</td>\n",
       "      <td>...</td>\n",
       "    </tr>\n",
       "    <tr>\n",
       "      <td>C1724</td>\n",
       "      <td>0.027435</td>\n",
       "      <td>0.002608</td>\n",
       "    </tr>\n",
       "    <tr>\n",
       "      <td>C25+</td>\n",
       "      <td>0.026874</td>\n",
       "      <td>0.001285</td>\n",
       "    </tr>\n",
       "    <tr>\n",
       "      <td>C5C9</td>\n",
       "      <td>1.157743</td>\n",
       "      <td>0.304676</td>\n",
       "    </tr>\n",
       "    <tr>\n",
       "      <td>C3MEA</td>\n",
       "      <td>0.008606</td>\n",
       "      <td>0.004293</td>\n",
       "    </tr>\n",
       "    <tr>\n",
       "      <td>PRPD</td>\n",
       "      <td>0.005965</td>\n",
       "      <td>0.002976</td>\n",
       "    </tr>\n",
       "  </tbody>\n",
       "</table>\n",
       "<p>152 rows × 2 columns</p>\n",
       "</div>"
      ],
      "text/plain": [
       "              wt        vol\n",
       "H2      3.292772  32.645161\n",
       "CH4     3.653542   4.552011\n",
       "C2H2    0.175670   0.134856\n",
       "C2H4   44.433216  31.658598\n",
       "C2H6   44.381168  29.501352\n",
       "...          ...        ...\n",
       "C1724   0.027435   0.002608\n",
       "C25+    0.026874   0.001285\n",
       "C5C9    1.157743   0.304676\n",
       "C3MEA   0.008606   0.004293\n",
       "PRPD    0.005965   0.002976\n",
       "\n",
       "[152 rows x 2 columns]"
      ]
     },
     "execution_count": 136,
     "metadata": {},
     "output_type": "execute_result"
    }
   ],
   "source": [
    "pd.concat([effluent[\"wt\"], effluent[\"vol\"]], axis=1, sort=False, keys=['wt', 'vol'])"
   ]
  },
  {
   "cell_type": "code",
   "execution_count": null,
   "metadata": {},
   "outputs": [],
   "source": []
  }
 ],
 "metadata": {
  "kernelspec": {
   "display_name": "Python 3 (ipykernel)",
   "language": "python",
   "name": "python3"
  },
  "language_info": {
   "codemirror_mode": {
    "name": "ipython",
    "version": 3
   },
   "file_extension": ".py",
   "mimetype": "text/x-python",
   "name": "python",
   "nbconvert_exporter": "python",
   "pygments_lexer": "ipython3",
   "version": "3.9.7"
  }
 },
 "nbformat": 4,
 "nbformat_minor": 2
}
