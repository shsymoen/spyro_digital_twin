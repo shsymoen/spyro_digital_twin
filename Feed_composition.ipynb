{
 "cells": [
  {
   "cell_type": "code",
   "execution_count": 1,
   "metadata": {},
   "outputs": [],
   "source": [
    "import pandas as pd\n",
    "import numpy as np\n",
    "import matplotlib.pyplot as plt\n",
    "\n",
    "%matplotlib inline"
   ]
  },
  {
   "cell_type": "code",
   "execution_count": 2,
   "metadata": {},
   "outputs": [],
   "source": [
    "%matplotlib inline"
   ]
  },
  {
   "cell_type": "code",
   "execution_count": 28,
   "metadata": {},
   "outputs": [
    {
     "data": {
      "text/plain": [
       "odict_keys(['NI -0.3', 'NI 2.6', 'NI 7.0', 'NI 8.2', 'NI 9.3'])"
      ]
     },
     "execution_count": 28,
     "metadata": {},
     "output_type": "execute_result"
    }
   ],
   "source": [
    "feed_comp = pd.read_excel(\n",
    "    \"Samples Naphtha2.xlsx\",\n",
    "    skiprows=8,\n",
    "    sheet_name=None,\n",
    "    parse_dates=True,\n",
    "    decimal='.'\n",
    ")\n",
    "feed_comp.keys()"
   ]
  },
  {
   "cell_type": "code",
   "execution_count": 37,
   "metadata": {},
   "outputs": [
    {
     "data": {
      "text/html": [
       "<div>\n",
       "<style scoped>\n",
       "    .dataframe tbody tr th:only-of-type {\n",
       "        vertical-align: middle;\n",
       "    }\n",
       "\n",
       "    .dataframe tbody tr th {\n",
       "        vertical-align: top;\n",
       "    }\n",
       "\n",
       "    .dataframe thead th {\n",
       "        text-align: right;\n",
       "    }\n",
       "</style>\n",
       "<table border=\"1\" class=\"dataframe\">\n",
       "  <thead>\n",
       "    <tr style=\"text-align: right;\">\n",
       "      <th></th>\n",
       "      <th>COMPOSANT</th>\n",
       "      <th>DESCRIPTION COMPOSANT</th>\n",
       "      <th>VALEUR</th>\n",
       "      <th>SPEC. MINI</th>\n",
       "      <th>SPEC. MAXI</th>\n",
       "      <th>UNITÉ DE MESURE</th>\n",
       "      <th>DATE D'ÉCHANTILLON</th>\n",
       "    </tr>\n",
       "  </thead>\n",
       "  <tbody>\n",
       "    <tr>\n",
       "      <td>0</td>\n",
       "      <td>#10</td>\n",
       "      <td>Temp 10%</td>\n",
       "      <td>44</td>\n",
       "      <td>NaN</td>\n",
       "      <td>NaN</td>\n",
       "      <td>TEMP</td>\n",
       "      <td>30.05.2022 17:40:28</td>\n",
       "    </tr>\n",
       "    <tr>\n",
       "      <td>1</td>\n",
       "      <td>#30</td>\n",
       "      <td>Temp 30%</td>\n",
       "      <td>46</td>\n",
       "      <td>NaN</td>\n",
       "      <td>NaN</td>\n",
       "      <td>TEMP</td>\n",
       "      <td>30.05.2022 17:40:28</td>\n",
       "    </tr>\n",
       "    <tr>\n",
       "      <td>2</td>\n",
       "      <td>#5</td>\n",
       "      <td>Temp 05%</td>\n",
       "      <td>44</td>\n",
       "      <td>NaN</td>\n",
       "      <td>NaN</td>\n",
       "      <td>TEMP</td>\n",
       "      <td>30.05.2022 17:40:28</td>\n",
       "    </tr>\n",
       "    <tr>\n",
       "      <td>3</td>\n",
       "      <td>#50</td>\n",
       "      <td>Temp 50%</td>\n",
       "      <td>49</td>\n",
       "      <td>NaN</td>\n",
       "      <td>NaN</td>\n",
       "      <td>TEMP</td>\n",
       "      <td>30.05.2022 17:40:28</td>\n",
       "    </tr>\n",
       "    <tr>\n",
       "      <td>4</td>\n",
       "      <td>#70</td>\n",
       "      <td>Temp 70%</td>\n",
       "      <td>54</td>\n",
       "      <td>NaN</td>\n",
       "      <td>NaN</td>\n",
       "      <td>TEMP</td>\n",
       "      <td>30.05.2022 17:40:28</td>\n",
       "    </tr>\n",
       "  </tbody>\n",
       "</table>\n",
       "</div>"
      ],
      "text/plain": [
       "  COMPOSANT DESCRIPTION COMPOSANT VALEUR  SPEC. MINI  SPEC. MAXI  \\\n",
       "0       #10              Temp 10%     44         NaN         NaN   \n",
       "1       #30              Temp 30%     46         NaN         NaN   \n",
       "2        #5              Temp 05%     44         NaN         NaN   \n",
       "3       #50              Temp 50%     49         NaN         NaN   \n",
       "4       #70              Temp 70%     54         NaN         NaN   \n",
       "\n",
       "  UNITÉ DE MESURE   DATE D'ÉCHANTILLON  \n",
       "0            TEMP  30.05.2022 17:40:28  \n",
       "1            TEMP  30.05.2022 17:40:28  \n",
       "2            TEMP  30.05.2022 17:40:28  \n",
       "3            TEMP  30.05.2022 17:40:28  \n",
       "4            TEMP  30.05.2022 17:40:28  "
      ]
     },
     "execution_count": 37,
     "metadata": {},
     "output_type": "execute_result"
    }
   ],
   "source": [
    "feed_comp_test = feed_comp['NI 9.3']\n",
    "feed_comp_test.head()"
   ]
  },
  {
   "cell_type": "code",
   "execution_count": 38,
   "metadata": {},
   "outputs": [
    {
     "data": {
      "text/html": [
       "<div>\n",
       "<style scoped>\n",
       "    .dataframe tbody tr th:only-of-type {\n",
       "        vertical-align: middle;\n",
       "    }\n",
       "\n",
       "    .dataframe tbody tr th {\n",
       "        vertical-align: top;\n",
       "    }\n",
       "\n",
       "    .dataframe thead th {\n",
       "        text-align: right;\n",
       "    }\n",
       "</style>\n",
       "<table border=\"1\" class=\"dataframe\">\n",
       "  <thead>\n",
       "    <tr style=\"text-align: right;\">\n",
       "      <th></th>\n",
       "      <th>COMPOSANT</th>\n",
       "      <th>DESCRIPTION COMPOSANT</th>\n",
       "      <th>VALEUR</th>\n",
       "      <th>SPEC. MINI</th>\n",
       "      <th>SPEC. MAXI</th>\n",
       "      <th>UNITÉ DE MESURE</th>\n",
       "      <th>DATE D'ÉCHANTILLON</th>\n",
       "    </tr>\n",
       "  </thead>\n",
       "  <tbody>\n",
       "    <tr>\n",
       "      <td>7</td>\n",
       "      <td>2-methylbutene-2</td>\n",
       "      <td>2Me2C4-(gew)</td>\n",
       "      <td>0.064</td>\n",
       "      <td>NaN</td>\n",
       "      <td>NaN</td>\n",
       "      <td>PCT_GEW</td>\n",
       "      <td>30.05.2022 17:40:28</td>\n",
       "    </tr>\n",
       "    <tr>\n",
       "      <td>17</td>\n",
       "      <td>5147</td>\n",
       "      <td>n/i paraffinen(gew)</td>\n",
       "      <td>7.15</td>\n",
       "      <td>NaN</td>\n",
       "      <td>NaN</td>\n",
       "      <td>PCT_GEW</td>\n",
       "      <td>30.05.2022 17:40:28</td>\n",
       "    </tr>\n",
       "    <tr>\n",
       "      <td>18</td>\n",
       "      <td>5148</td>\n",
       "      <td>Benzeen(gew)</td>\n",
       "      <td>1.87</td>\n",
       "      <td>NaN</td>\n",
       "      <td>NaN</td>\n",
       "      <td>PCT_GEW</td>\n",
       "      <td>30.05.2022 17:40:28</td>\n",
       "    </tr>\n",
       "    <tr>\n",
       "      <td>22</td>\n",
       "      <td>5197</td>\n",
       "      <td>Totaal olefinen(gew)</td>\n",
       "      <td>&lt;0.50</td>\n",
       "      <td>NaN</td>\n",
       "      <td>NaN</td>\n",
       "      <td>PCT_GEW</td>\n",
       "      <td>30.05.2022 17:40:28</td>\n",
       "    </tr>\n",
       "    <tr>\n",
       "      <td>23</td>\n",
       "      <td>5198</td>\n",
       "      <td>Totaal aromaten(gew)</td>\n",
       "      <td>1.88</td>\n",
       "      <td>NaN</td>\n",
       "      <td>NaN</td>\n",
       "      <td>PCT_GEW</td>\n",
       "      <td>30.05.2022 17:40:28</td>\n",
       "    </tr>\n",
       "  </tbody>\n",
       "</table>\n",
       "</div>"
      ],
      "text/plain": [
       "           COMPOSANT DESCRIPTION COMPOSANT VALEUR  SPEC. MINI  SPEC. MAXI  \\\n",
       "7   2-methylbutene-2          2Me2C4-(gew)  0.064         NaN         NaN   \n",
       "17              5147   n/i paraffinen(gew)   7.15         NaN         NaN   \n",
       "18              5148          Benzeen(gew)   1.87         NaN         NaN   \n",
       "22              5197  Totaal olefinen(gew)  <0.50         NaN         NaN   \n",
       "23              5198  Totaal aromaten(gew)   1.88         NaN         NaN   \n",
       "\n",
       "   UNITÉ DE MESURE   DATE D'ÉCHANTILLON  \n",
       "7          PCT_GEW  30.05.2022 17:40:28  \n",
       "17         PCT_GEW  30.05.2022 17:40:28  \n",
       "18         PCT_GEW  30.05.2022 17:40:28  \n",
       "22         PCT_GEW  30.05.2022 17:40:28  \n",
       "23         PCT_GEW  30.05.2022 17:40:28  "
      ]
     },
     "execution_count": 38,
     "metadata": {},
     "output_type": "execute_result"
    }
   ],
   "source": [
    "# Select all rows with weight based value components\n",
    "mask_wt = feed_comp_test[\"UNITÉ DE MESURE\"] == \"PCT_GEW\"\n",
    "feed_comp_wt = feed_comp_test[mask_wt]\n",
    "feed_comp_wt.head()"
   ]
  },
  {
   "cell_type": "code",
   "execution_count": 39,
   "metadata": {},
   "outputs": [],
   "source": [
    "    nafta_converter = pd.read_excel(\n",
    "        \"naphtha_converter_TRAlab_Spyro.xlsx\",\n",
    "        sheet_name=\"Detailed_comp\"\n",
    "    )[[\"Lab_name\", \"Spyro_name\"]].set_index(\"Lab_name\")[\"Spyro_name\"]"
   ]
  },
  {
   "cell_type": "code",
   "execution_count": 40,
   "metadata": {},
   "outputs": [],
   "source": [
    "#nafta_converter"
   ]
  },
  {
   "cell_type": "code",
   "execution_count": 41,
   "metadata": {},
   "outputs": [],
   "source": [
    "#feed_comp_wt"
   ]
  },
  {
   "cell_type": "code",
   "execution_count": 42,
   "metadata": {},
   "outputs": [
    {
     "data": {
      "text/plain": [
       "DESCRIPTION COMPOSANT\n",
       "B2M2     0.064\n",
       "BENZ     1.870\n",
       "B1       0.000\n",
       "C6ISO    8.380\n",
       "AOLC6    0.010\n",
       "Name: VALEUR, dtype: float64"
      ]
     },
     "execution_count": 42,
     "metadata": {},
     "output_type": "execute_result"
    }
   ],
   "source": [
    "feed_comp_wt = feed_comp_wt.replace(nafta_converter.to_dict()).set_index(\"DESCRIPTION COMPOSANT\")[\"VALEUR\"]\n",
    "feed_comp_wt = feed_comp_wt[feed_comp_wt.index.notnull()]\n",
    "feed_comp_wt = feed_comp_wt.astype('float64')\n",
    "feed_comp_wt.head()"
   ]
  },
  {
   "cell_type": "code",
   "execution_count": 43,
   "metadata": {},
   "outputs": [
    {
     "name": "stdout",
     "output_type": "stream",
     "text": [
      "KEYW=&NAME\n",
      "   B2M2=0.064, BENZ=1.87, B1=0.0, C6ISO=8.38, AOLC6=0.01, C7ISO=0.18, C7NAF=0.04, AOLC7=0.0, C8ISO=0.02, C8NAF=0.0, C9ARO=0.0, C9ISO=0.0, C9NAF=0.0, CESAN=0.97, CPTAN=2.867, IC5=2.138, MCPTA=6.819, NBUTA=0.014, NC7=0.037, NC6=20.63, NC9=0.014, NC8=0.035, NC5=55.873, TOLUO=0.009, END\n"
     ]
    }
   ],
   "source": [
    "# create .dat file input\n",
    "feed_comp_wt_dct = feed_comp_wt.to_dict()\n",
    "print(\"KEYW=&NAME\")\n",
    "print('   ' + ', '.join(\"{}={:}\".format(key, value, width=72) for key, value in feed_comp_wt_dct.items()) + ', END')\n",
    "    "
   ]
  },
  {
   "cell_type": "code",
   "execution_count": 44,
   "metadata": {},
   "outputs": [
    {
     "name": "stdout",
     "output_type": "stream",
     "text": [
      "[NAME]\n",
      "B2M2 0.064 BENZ 1.87 B1 0.0 C6ISO 8.38 AOLC6 0.01 C7ISO 0.18 C7NAF 0.04 AOLC7 0.0 C8ISO 0.02 C8NAF 0.0 C9ARO 0.0 C9ISO 0.0 C9NAF 0.0 CESAN 0.97 CPTAN 2.867 IC5 2.138 MCPTA 6.819 NBUTA 0.014 NC7 0.037 NC6 20.63 NC9 0.014 NC8 0.035 NC5 55.873 TOLUO 0.009\n"
     ]
    }
   ],
   "source": [
    "# create .ecf file input\n",
    "\n",
    "print(\"[NAME]\")\n",
    "print(' '.join(\"{} {}\".format(key, value) for key, value in feed_comp_wt_dct.items()))"
   ]
  },
  {
   "cell_type": "code",
   "execution_count": null,
   "metadata": {},
   "outputs": [],
   "source": []
  },
  {
   "cell_type": "code",
   "execution_count": null,
   "metadata": {},
   "outputs": [],
   "source": []
  }
 ],
 "metadata": {
  "kernelspec": {
   "display_name": "Python 3 (ipykernel)",
   "language": "python",
   "name": "python3"
  },
  "language_info": {
   "codemirror_mode": {
    "name": "ipython",
    "version": 3
   },
   "file_extension": ".py",
   "mimetype": "text/x-python",
   "name": "python",
   "nbconvert_exporter": "python",
   "pygments_lexer": "ipython3",
   "version": "3.9.7"
  }
 },
 "nbformat": 4,
 "nbformat_minor": 2
}
