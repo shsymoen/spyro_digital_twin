{
 "cells": [
  {
   "cell_type": "code",
   "execution_count": 1,
   "metadata": {},
   "outputs": [],
   "source": [
    "import pandas as pd\n",
    "import numpy as np\n",
    "import matplotlib.pyplot as plt\n",
    "import re\n",
    "\n",
    "%matplotlib notebook"
   ]
  },
  {
   "cell_type": "code",
   "execution_count": 2,
   "metadata": {},
   "outputs": [],
   "source": [
    "\n",
    "%matplotlib notebook"
   ]
  },
  {
   "cell_type": "code",
   "execution_count": 3,
   "metadata": {},
   "outputs": [
    {
     "name": "stdout",
     "output_type": "stream",
     "text": [
      "WH2 1.104631 WCH4 17.755289 WC2H2 0.652727 WC2H4 33.193439 WC2H6 3.184381 WC3H4 0.863027 WC3H6 13.553437 WC3H8 0.322236 WNBUTA 0.083413 WIBUTA 0.022578 WIB 1.769784 WB1 0.897014 WB2 0.547584 WBUTAD 4.830544 WBENZ 8.474632 WTOLUO 2.535606 WXILO 0.417858 WEBENZ 0.069887 WSTYR 1.185272 WC9ARO 0.032798 WNC5 0.388231 WIC5 0.216596 WNC6 0.086474 WNC7 0.004056 WNC8 0.000287 WNC9 0.000063 WNC10 0.000006 WUND1 0.000002 WCPTAN 0.04013 WMCPTA 0.03559 WCESAN 0.048971 WC7NAF 0.0039 WC8NAF 0.000095 WC9NAF 0.000016 WB2M2 0.005101 WP1 0.051151 WFUEL1 1.481004 WB1M2 0.074387 WMMCSE 0.007607 WC10IS 0 WPTD 0.35902 WISOPR 0.255078 WAOLC6 0.009735 WMCESE 0.051418 WC6ISO 0.042053 WESIJ 0.013552 WPIJMK 0.13872 WAOLC7 0.001065 WMCP 0.033395 WC7ISO 0.00381 WEIJMK 0.039277 WCPTD 1.080204 WAOLC8 0.000106 WCC5H8 0.262051 WC8ISO 0.000204 WC9ISO 0.000049 WCESEN 0.088795 WDIAL 0.009584 WC4H4 0.11946 WMSTYR 0.310979 WDMSTY 0.038824 WFUEL2 0.022528 WFUEL3 1.167826 WMCPTD 0.19131 WC7H10 0.052136 WINDEN 0.284477 WFUEL4 0.154145 WNC15 0 WNAF15 0 WNAF20 0 WOLN11 0 WOLN16 0 WC15AR 0.000005 WC20AR 0 WDNA20 0 WNC20 0 WISO20 0 WC15CO 0.00367 WC20CO 0.00116 WISO15 0 WOLC11 0.000002 WOLC16 0 WDIA7 0.006031 WDIA14 0 WDNA15 0 WCH32 0.003272 WC1924 0.000148 WNC30 0 WISO30 0 WEIC1 0 WOLC20 0 WOLC25 0 WNAF25 0 WNAF35 0 WC25AR 0.000002 WC35AR 0 WPNA25 0 WPNA30 0 WPCO25 0.000046 WFUE32 0.026965 WFUE43 0.060144 WPES32 0.855122 WPES42 0.123183 WNAF12 0.000001 WDNA11 0 WC12AR 0.000282 WC12CO 0.002551 WPCO30 0 WPNA16 0 WP2 0.040022 WES1 0.00734 WP2M 0.000759 WOCT1 0.000016 WNC25 0 WISO25 0 WNC35 0 WISO35 0 WEXA1 0 WPEIC1 0 WNAF30 0 WC30AR 0 WB1M3 0.026689 WESEX 0.000158 WP1M 0.001622 WEPT1 0.00018 WCO 0.151078 WCO2 0.019951 VH2 14.75169 VCH4 29.797802 VC2H2 0.674952 VC2H4 31.856897 VC2H6 2.851252 VC3H4 0.579972 VC3H6 8.671803 VC3H8 0.196747 VNBUTA 0.038639 VIBUTA 0.010459 VIB 0.849262 VB1 0.430448 VB2 0.262768 VBUTAD 2.404419 VBENZ 2.921059 VTOLUO 0.740929 VXILO 0.10597 VEBENZ 0.017724 VSTYR 0.306407 VC9ARO 0.007347 VNC5 0.144875 VIC5 0.080826 VNC6 0.027017 VNC7 0.00109 VNC8 0.000068 VNC9 0.000013 VNC10 0.000001 VUND1 0 VCPTAN 0.015406 VMCPTA 0.011385 VCESAN 0.015666 VC7NAF 0.001069 VC8NAF 0.000023 VC9NAF 0.000003 VB2M2 0.001958 VP1 0.019636 VFUEL1 0.311104 VB1M2 0.028557 VMMCSE 0.001858 VC10IS 0 VPTD 0.141905 VISOPR 0.100821 VAOLC6 0.003114 VMCESE 0.014395 VC6ISO 0.013138 VESIJ 0.004442 VPIJMK 0.045467 VAOLC7 0.000292 VMCP 0.010945 VC7ISO 0.001024 VEIJMK 0.010996 VCPTD 0.439979 VAOLC8 0.000026 VCC5H8 0.103577 VC8ISO 0.000048 VC9ISO 0.00001 VCESEN 0.029104 VDIAL 0.003141 VC4H4 0.061764 VMSTYR 0.07085 VDMSTY 0.007907 VFUEL2 0.002884 VFUEL3 0.153928 VMCPTD 0.064282 VC7H10 0.014908 VINDEN 0.065937 VFUEL4 0.014697 VNC15 0 VNAF15 0 VNAF20 0 VOLN11 0 VOLN16 0 VC15AR 0.000001 VC20AR 0 VDNA20 0 VNC20 0 VISO20 0 VC15CO 0.000493 VC20CO 0.000115 VISO15 0 VOLC11 0 VOLC16 0 VDIA7 0.001688 VDIA14 0 VDNA15 0 VCH32 0.000211 VC1924 0.000016 VNC30 0 VISO30 0 VEIC1 0 VOLC20 0 VOLC25 0 VNAF25 0 VNAF35 0 VC25AR 0 VC35AR 0 VPNA25 0 VPNA30 0 VPCO25 0.000004 VFUE32 0.001768 VFUE43 0.003158 VPES32 0.056918 VPES42 0.00625 VNAF12 0 VDNA11 0 VC12AR 0.000047 VC12CO 0.000431 VPCO30 0 VPNA16 0 VP2 0.015364 VES1 0.002348 VP2M 0.000243 VOCT1 0.000004 VNC25 0 VISO25 0 VNC35 0 VISO35 0 VEXA1 0 VPEIC1 0 VNAF30 0 VC30AR 0 VB1M3 0.010246 VESEX 0.000051 VP1M 0.000519 VEPT1 0.000049 VCO 0.338667 VCO2 0.044723 WB2C 0.229985 WB2T 0.317599 WBUTES 3.214383 WBUTAS 0.105991 WC5PAR 0.604827 WOXYL 0.123993 WMXYL 0.200869 WPXYL 0.092995 WC6NA 0.708056 WC7NA 0.161872 WC8NA 0.008315 WC9AR 0.55496 WC9NA 0.00012 WTOTC5 2.798659 WC5+ 18.13077 WTOTC10 1.296932 WC10+ 4.014191 WTOTC11 0.297149 WC12+ 2.42011 WC1216 0.362215 WC1724 0.989161 WC25+ 1.068734 VBUTES 1.542477 VBUTAS 0.049097 VOXYL 0.031445 VMXYL 0.050941 VPXYL 0.023584 VC6NA 0.230863 VC7NA 0.045512 VC8NA 0.002026 VC9AR 0.127273 VC9NA 0.00012 VTOTC5 1.103151 VC5+ 5.074587 VTOTC10 0.273653 VC10+ 0.576797 VTOTC11 0.062381 VC12+ 0.240764 VC1216 0.047795 VC1724 0.124659 VC25+ 0.06831 RC4H4 1.444433 RBUTAD 58.407776 RB1 10.846108 RB2C 2.780833 RB2T 3.840199 RIB 21.399067 RNBUTA 1.008574 RIBUTA 0.273002 RC5PAR 21.611309 RP1 1.827685 RP2 1.430043 RB1M2 2.657955 RB1M3 0.953622 RB2M2 0.182273 RPTD 12.828297 RISOPR 9.114282 RCPTAN 1.433902 RCC5H8 9.363451 RCPTD 38.597187 MPRAT 1.310021 PERAT 0.408317 C3ERAT 0.40498 HCAVER 2.252741 HCWCOO 2.257331 HCC5+ 1.08571 HCC10+ 0.752964 HCC1216 0.764407 HCC1724 0.767563 HCC25+ 0.639854 STEAM 39.220291 MWC1216 204.030655 MWC1724 213.628326 MWC25+ 421.213928 WC5C9 16.915237 VC5C9 5.60094 AMWWET 22.533987 CONVKEY 0.983763 WC3MEA 0.518917 WPRPD 0.34411 VC3MEA 0.348722 VPRPD 0.231249 PLACE 6 \n",
      "\n"
     ]
    },
    {
     "data": {
      "text/html": [
       "<div>\n",
       "<style scoped>\n",
       "    .dataframe tbody tr th:only-of-type {\n",
       "        vertical-align: middle;\n",
       "    }\n",
       "\n",
       "    .dataframe tbody tr th {\n",
       "        vertical-align: top;\n",
       "    }\n",
       "\n",
       "    .dataframe thead th {\n",
       "        text-align: right;\n",
       "    }\n",
       "</style>\n",
       "<table border=\"1\" class=\"dataframe\">\n",
       "  <thead>\n",
       "    <tr style=\"text-align: right;\">\n",
       "      <th></th>\n",
       "      <th>Value</th>\n",
       "    </tr>\n",
       "    <tr>\n",
       "      <th>Component</th>\n",
       "      <th></th>\n",
       "    </tr>\n",
       "  </thead>\n",
       "  <tbody>\n",
       "    <tr>\n",
       "      <th>WH2</th>\n",
       "      <td>1.104631</td>\n",
       "    </tr>\n",
       "    <tr>\n",
       "      <th>WCH4</th>\n",
       "      <td>17.755289</td>\n",
       "    </tr>\n",
       "    <tr>\n",
       "      <th>WC2H2</th>\n",
       "      <td>0.652727</td>\n",
       "    </tr>\n",
       "    <tr>\n",
       "      <th>WC2H4</th>\n",
       "      <td>33.193439</td>\n",
       "    </tr>\n",
       "    <tr>\n",
       "      <th>WC2H6</th>\n",
       "      <td>3.184381</td>\n",
       "    </tr>\n",
       "    <tr>\n",
       "      <th>...</th>\n",
       "      <td>...</td>\n",
       "    </tr>\n",
       "    <tr>\n",
       "      <th>WC3MEA</th>\n",
       "      <td>0.518917</td>\n",
       "    </tr>\n",
       "    <tr>\n",
       "      <th>WPRPD</th>\n",
       "      <td>0.34411</td>\n",
       "    </tr>\n",
       "    <tr>\n",
       "      <th>VC3MEA</th>\n",
       "      <td>0.348722</td>\n",
       "    </tr>\n",
       "    <tr>\n",
       "      <th>VPRPD</th>\n",
       "      <td>0.231249</td>\n",
       "    </tr>\n",
       "    <tr>\n",
       "      <th>PLACE</th>\n",
       "      <td>6</td>\n",
       "    </tr>\n",
       "  </tbody>\n",
       "</table>\n",
       "<p>337 rows × 1 columns</p>\n",
       "</div>"
      ],
      "text/plain": [
       "               Value\n",
       "Component           \n",
       "WH2         1.104631\n",
       "WCH4       17.755289\n",
       "WC2H2       0.652727\n",
       "WC2H4      33.193439\n",
       "WC2H6       3.184381\n",
       "...              ...\n",
       "WC3MEA      0.518917\n",
       "WPRPD        0.34411\n",
       "VC3MEA      0.348722\n",
       "VPRPD       0.231249\n",
       "PLACE              6\n",
       "\n",
       "[337 rows x 1 columns]"
      ]
     },
     "execution_count": 3,
     "metadata": {},
     "output_type": "execute_result"
    }
   ],
   "source": [
    "effl_df = 0\n",
    "\n",
    "with open(\"NI03/NI03.eof\", \"r\") as f:\n",
    "    f_str = f.read()\n",
    "    effl_start_semi = f_str.rfind(\"[EFFLUENT]\")\n",
    "    effl_start = f_str.find(\" \", effl_start_semi)\n",
    "    effl_end = f_str.rfind(\"[EFFLUENT END]\")\n",
    "    effl_str = f_str[effl_start+1 : effl_end]\n",
    "    print(effl_str)\n",
    "    d = re.findall(r\"([^\\s]+)\\s([0-9\\.]+)\", effl_str)\n",
    "\n",
    "    effl_df = pd.DataFrame(d, columns=[\"Component\", \"Value\"])\n",
    "effl_df = effl_df.set_index(\"Component\")\n",
    "effl_df[\"Value\"].astype('float64')\n",
    "effl_df"
   ]
  },
  {
   "cell_type": "code",
   "execution_count": 4,
   "metadata": {},
   "outputs": [
    {
     "name": "stderr",
     "output_type": "stream",
     "text": [
      "/tmp/ipykernel_211763/3635209071.py:22: DeprecationWarning: The default dtype for empty Series will be 'object' instead of 'float64' in a future version. Specify a dtype explicitly to silence this warning.\n",
      "  effluent[effluent_sub] = pd.Series(effluent[effluent_sub]).astype(\"float64\")\n"
     ]
    }
   ],
   "source": [
    "effluent = {}\n",
    "\n",
    "effluent_list = [\"wt\", \"vol\", \"RC4\",\"RC4-pygas\", \"Pygas\", \"H/C ratio\", \"MW\", \"misc\"]\n",
    "for effluent_sublist in effluent_list:\n",
    "    effluent[effluent_sublist] = {}\n",
    "\n",
    "for component in effl_df.index:\n",
    "    if component[0] == \"W\":\n",
    "        effluent[\"wt\"][component[1:]] = effl_df.loc[component, 'Value']\n",
    "    elif component[0] == \"V\":\n",
    "        effluent[\"vol\"][component[1:]] = effl_df.loc[component, 'Value']\n",
    "    elif component[0] == \"R\":\n",
    "        effluent[\"RC4-pygas\"][component[1:]] = effl_df.loc[component, 'Value']\n",
    "    elif component[0: 2] == \"HC\":\n",
    "        effluent[\"H/C ratio\"][component[2:]] = effl_df.loc[component, 'Value']\n",
    "    elif component[0: 2] == \"MW\":\n",
    "        effluent[\"MW\"][component[2:]] = effl_df.loc[component, 'Value']\n",
    "    else:\n",
    "        effluent[\"misc\"][component] = effl_df.loc[component, 'Value']\n",
    "        \n",
    "for effluent_sub in effluent:\n",
    "    effluent[effluent_sub] = pd.Series(effluent[effluent_sub]).astype(\"float64\")"
   ]
  },
  {
   "cell_type": "code",
   "execution_count": 5,
   "metadata": {},
   "outputs": [],
   "source": [
    " raw_c4_comps = [\n",
    "     \"C4H4\",\n",
    "     \"BUTAD\",\n",
    "     \"B1\",\n",
    "     \"B2C\",\n",
    "     \"B2T\",\n",
    "     \"IB\",\n",
    "     \"NBUTA\",\n",
    "     \"IBUTA\",\n",
    " ]\n",
    "effluent[\"RC4\"] = effluent[\"RC4-pygas\"].loc[raw_c4_comps]\n",
    "effluent[\"Pygas\"] = effluent[\"RC4-pygas\"].loc[~effluent[\"RC4-pygas\"].index.isin(raw_c4_comps)]"
   ]
  },
  {
   "cell_type": "code",
   "execution_count": 6,
   "metadata": {},
   "outputs": [
    {
     "name": "stdout",
     "output_type": "stream",
     "text": [
      "C4H4      1.444433\n",
      "BUTAD    58.407776\n",
      "B1       10.846108\n",
      "B2C       2.780833\n",
      "B2T       3.840199\n",
      "IB       21.399067\n",
      "NBUTA     1.008574\n",
      "IBUTA     0.273002\n",
      "dtype: float64\n",
      "99.999992\n"
     ]
    }
   ],
   "source": [
    "print(effluent[\"RC4\"])\n",
    "print(effluent[\"RC4\"].sum())"
   ]
  },
  {
   "cell_type": "code",
   "execution_count": 7,
   "metadata": {},
   "outputs": [
    {
     "name": "stdout",
     "output_type": "stream",
     "text": [
      "C5PAR    21.611309\n",
      "P1        1.827685\n",
      "P2        1.430043\n",
      "B1M2      2.657955\n",
      "B1M3      0.953622\n",
      "B2M2      0.182273\n",
      "PTD      12.828297\n",
      "ISOPR     9.114282\n",
      "CPTAN     1.433902\n",
      "CC5H8     9.363451\n",
      "CPTD     38.597187\n",
      "dtype: float64\n",
      "100.00000599999998\n"
     ]
    }
   ],
   "source": [
    "print(effluent[\"Pygas\"])\n",
    "print(effluent[\"Pygas\"].sum())"
   ]
  },
  {
   "cell_type": "code",
   "execution_count": 8,
   "metadata": {},
   "outputs": [
    {
     "data": {
      "text/plain": [
       "MPRAT       1.310021\n",
       "PERAT       0.408317\n",
       "C3ERAT      0.404980\n",
       "STEAM      39.220291\n",
       "AMWWET     22.533987\n",
       "CONVKEY     0.983763\n",
       "PLACE       6.000000\n",
       "dtype: float64"
      ]
     },
     "execution_count": 8,
     "metadata": {},
     "output_type": "execute_result"
    }
   ],
   "source": [
    "effluent[\"misc\"]"
   ]
  },
  {
   "cell_type": "code",
   "execution_count": 9,
   "metadata": {},
   "outputs": [
    {
     "data": {
      "text/html": [
       "<div>\n",
       "<style scoped>\n",
       "    .dataframe tbody tr th:only-of-type {\n",
       "        vertical-align: middle;\n",
       "    }\n",
       "\n",
       "    .dataframe tbody tr th {\n",
       "        vertical-align: top;\n",
       "    }\n",
       "\n",
       "    .dataframe thead th {\n",
       "        text-align: right;\n",
       "    }\n",
       "</style>\n",
       "<table border=\"1\" class=\"dataframe\">\n",
       "  <thead>\n",
       "    <tr style=\"text-align: right;\">\n",
       "      <th></th>\n",
       "      <th>wt</th>\n",
       "      <th>vol</th>\n",
       "    </tr>\n",
       "  </thead>\n",
       "  <tbody>\n",
       "    <tr>\n",
       "      <th>H2</th>\n",
       "      <td>1.104631</td>\n",
       "      <td>14.751690</td>\n",
       "    </tr>\n",
       "    <tr>\n",
       "      <th>CH4</th>\n",
       "      <td>17.755289</td>\n",
       "      <td>29.797802</td>\n",
       "    </tr>\n",
       "    <tr>\n",
       "      <th>C2H2</th>\n",
       "      <td>0.652727</td>\n",
       "      <td>0.674952</td>\n",
       "    </tr>\n",
       "    <tr>\n",
       "      <th>C2H4</th>\n",
       "      <td>33.193439</td>\n",
       "      <td>31.856897</td>\n",
       "    </tr>\n",
       "    <tr>\n",
       "      <th>C2H6</th>\n",
       "      <td>3.184381</td>\n",
       "      <td>2.851252</td>\n",
       "    </tr>\n",
       "    <tr>\n",
       "      <th>...</th>\n",
       "      <td>...</td>\n",
       "      <td>...</td>\n",
       "    </tr>\n",
       "    <tr>\n",
       "      <th>C1724</th>\n",
       "      <td>0.989161</td>\n",
       "      <td>0.124659</td>\n",
       "    </tr>\n",
       "    <tr>\n",
       "      <th>C25+</th>\n",
       "      <td>1.068734</td>\n",
       "      <td>0.068310</td>\n",
       "    </tr>\n",
       "    <tr>\n",
       "      <th>C5C9</th>\n",
       "      <td>16.915237</td>\n",
       "      <td>5.600940</td>\n",
       "    </tr>\n",
       "    <tr>\n",
       "      <th>C3MEA</th>\n",
       "      <td>0.518917</td>\n",
       "      <td>0.348722</td>\n",
       "    </tr>\n",
       "    <tr>\n",
       "      <th>PRPD</th>\n",
       "      <td>0.344110</td>\n",
       "      <td>0.231249</td>\n",
       "    </tr>\n",
       "  </tbody>\n",
       "</table>\n",
       "<p>152 rows × 2 columns</p>\n",
       "</div>"
      ],
      "text/plain": [
       "              wt        vol\n",
       "H2      1.104631  14.751690\n",
       "CH4    17.755289  29.797802\n",
       "C2H2    0.652727   0.674952\n",
       "C2H4   33.193439  31.856897\n",
       "C2H6    3.184381   2.851252\n",
       "...          ...        ...\n",
       "C1724   0.989161   0.124659\n",
       "C25+    1.068734   0.068310\n",
       "C5C9   16.915237   5.600940\n",
       "C3MEA   0.518917   0.348722\n",
       "PRPD    0.344110   0.231249\n",
       "\n",
       "[152 rows x 2 columns]"
      ]
     },
     "execution_count": 9,
     "metadata": {},
     "output_type": "execute_result"
    }
   ],
   "source": [
    "pd.concat([effluent[\"wt\"], effluent[\"vol\"]], axis=1, sort=False, keys=['wt', 'vol'])"
   ]
  },
  {
   "cell_type": "code",
   "execution_count": 14,
   "metadata": {},
   "outputs": [],
   "source": [
    "general_spyro = \" TEMPWA 1107.211792 TEGENERALMPGA 1235.53064 VELOLI 137.85379 VELOMA 62.028976 TEMPCO 4.789137 AVTMT 945.782532 TOTDUT 4616664 HEATFA 71822.898438 VOLINS 1127.422729 SURINS 64.278442 SUROUT 77.243156 COILWE 3929.578857 INLETP 2.173671 TXADIA 842.00293 CIT 589 MASSFL 5999.999512 DSRATIO 0.65 CONOP 1 COKVOL 0\""
   ]
  },
  {
   "cell_type": "code",
   "execution_count": 17,
   "metadata": {},
   "outputs": [],
   "source": [
    "data = general_spyro.split()\n",
    "parameters = data[::2]\n",
    "values = data[1::2]"
   ]
  },
  {
   "cell_type": "code",
   "execution_count": 18,
   "metadata": {},
   "outputs": [
    {
     "data": {
      "text/html": [
       "<div>\n",
       "<style scoped>\n",
       "    .dataframe tbody tr th:only-of-type {\n",
       "        vertical-align: middle;\n",
       "    }\n",
       "\n",
       "    .dataframe tbody tr th {\n",
       "        vertical-align: top;\n",
       "    }\n",
       "\n",
       "    .dataframe thead th {\n",
       "        text-align: right;\n",
       "    }\n",
       "</style>\n",
       "<table border=\"1\" class=\"dataframe\">\n",
       "  <thead>\n",
       "    <tr style=\"text-align: right;\">\n",
       "      <th></th>\n",
       "      <th>0</th>\n",
       "    </tr>\n",
       "  </thead>\n",
       "  <tbody>\n",
       "    <tr>\n",
       "      <th>TEMPWA</th>\n",
       "      <td>1107.211792</td>\n",
       "    </tr>\n",
       "    <tr>\n",
       "      <th>TEGENERALMPGA</th>\n",
       "      <td>1235.53064</td>\n",
       "    </tr>\n",
       "    <tr>\n",
       "      <th>VELOLI</th>\n",
       "      <td>137.85379</td>\n",
       "    </tr>\n",
       "    <tr>\n",
       "      <th>VELOMA</th>\n",
       "      <td>62.028976</td>\n",
       "    </tr>\n",
       "    <tr>\n",
       "      <th>TEMPCO</th>\n",
       "      <td>4.789137</td>\n",
       "    </tr>\n",
       "    <tr>\n",
       "      <th>AVTMT</th>\n",
       "      <td>945.782532</td>\n",
       "    </tr>\n",
       "    <tr>\n",
       "      <th>TOTDUT</th>\n",
       "      <td>4616664</td>\n",
       "    </tr>\n",
       "    <tr>\n",
       "      <th>HEATFA</th>\n",
       "      <td>71822.898438</td>\n",
       "    </tr>\n",
       "    <tr>\n",
       "      <th>VOLINS</th>\n",
       "      <td>1127.422729</td>\n",
       "    </tr>\n",
       "    <tr>\n",
       "      <th>SURINS</th>\n",
       "      <td>64.278442</td>\n",
       "    </tr>\n",
       "    <tr>\n",
       "      <th>SUROUT</th>\n",
       "      <td>77.243156</td>\n",
       "    </tr>\n",
       "    <tr>\n",
       "      <th>COILWE</th>\n",
       "      <td>3929.578857</td>\n",
       "    </tr>\n",
       "    <tr>\n",
       "      <th>INLETP</th>\n",
       "      <td>2.173671</td>\n",
       "    </tr>\n",
       "    <tr>\n",
       "      <th>TXADIA</th>\n",
       "      <td>842.00293</td>\n",
       "    </tr>\n",
       "    <tr>\n",
       "      <th>CIT</th>\n",
       "      <td>589</td>\n",
       "    </tr>\n",
       "    <tr>\n",
       "      <th>MASSFL</th>\n",
       "      <td>5999.999512</td>\n",
       "    </tr>\n",
       "    <tr>\n",
       "      <th>DSRATIO</th>\n",
       "      <td>0.65</td>\n",
       "    </tr>\n",
       "    <tr>\n",
       "      <th>CONOP</th>\n",
       "      <td>1</td>\n",
       "    </tr>\n",
       "    <tr>\n",
       "      <th>COKVOL</th>\n",
       "      <td>0</td>\n",
       "    </tr>\n",
       "  </tbody>\n",
       "</table>\n",
       "</div>"
      ],
      "text/plain": [
       "                          0\n",
       "TEMPWA          1107.211792\n",
       "TEGENERALMPGA    1235.53064\n",
       "VELOLI            137.85379\n",
       "VELOMA            62.028976\n",
       "TEMPCO             4.789137\n",
       "AVTMT            945.782532\n",
       "TOTDUT              4616664\n",
       "HEATFA         71822.898438\n",
       "VOLINS          1127.422729\n",
       "SURINS            64.278442\n",
       "SUROUT            77.243156\n",
       "COILWE          3929.578857\n",
       "INLETP             2.173671\n",
       "TXADIA            842.00293\n",
       "CIT                     589\n",
       "MASSFL          5999.999512\n",
       "DSRATIO                0.65\n",
       "CONOP                     1\n",
       "COKVOL                    0"
      ]
     },
     "execution_count": 18,
     "metadata": {},
     "output_type": "execute_result"
    }
   ],
   "source": [
    "pd.DataFrame(values, parameters)"
   ]
  },
  {
   "cell_type": "code",
   "execution_count": null,
   "metadata": {},
   "outputs": [],
   "source": []
  }
 ],
 "metadata": {
  "kernelspec": {
   "display_name": "Python 3 (ipykernel)",
   "language": "python",
   "name": "python3"
  },
  "language_info": {
   "codemirror_mode": {
    "name": "ipython",
    "version": 3
   },
   "file_extension": ".py",
   "mimetype": "text/x-python",
   "name": "python",
   "nbconvert_exporter": "python",
   "pygments_lexer": "ipython3",
   "version": "3.11.3"
  }
 },
 "nbformat": 4,
 "nbformat_minor": 2
}
