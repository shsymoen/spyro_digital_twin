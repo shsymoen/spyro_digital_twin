{
 "cells": [
  {
   "cell_type": "code",
   "execution_count": 1,
   "metadata": {},
   "outputs": [],
   "source": [
    "import pandas as pd\n",
    "import numpy as np \n",
    "import matplotlib.pyplot as plt\n",
    "import os, sys\n",
    "import subprocess\n",
    "\n",
    "%matplotlib notebook"
   ]
  },
  {
   "cell_type": "code",
   "execution_count": 2,
   "metadata": {},
   "outputs": [],
   "source": [
    "\n",
    "%matplotlib notebook"
   ]
  },
  {
   "cell_type": "code",
   "execution_count": 3,
   "metadata": {},
   "outputs": [],
   "source": [
    "cwd = os.getcwd()"
   ]
  },
  {
   "cell_type": "code",
   "execution_count": 4,
   "metadata": {},
   "outputs": [
    {
     "name": "stdout",
     "output_type": "stream",
     "text": [
      "C:\\Program Files (x86)\\Spyro EFPS 6.8\\EFPS68.exe\n"
     ]
    }
   ],
   "source": [
    "spyro_exe_location = r\"C:\\Program Files (x86)\\Spyro EFPS 6.8\"\n",
    "spyro_exe_name = r\"EFPS68.exe\"\n",
    "spyro_exe_loc_name = os.path.join(spyro_exe_location, spyro_exe_name)\n",
    "print(spyro_exe_loc_name)"
   ]
  },
  {
   "cell_type": "code",
   "execution_count": 18,
   "metadata": {},
   "outputs": [],
   "source": [
    "folder_location = r'C:\\Users\\J1009269\\Documents\\EFPS Spyro'\n",
    "base_folder = os.path.join(folder_location, \"Base file\")\n",
    "base_file_name = \"B100_test.dat\""
   ]
  },
  {
   "cell_type": "code",
   "execution_count": 19,
   "metadata": {},
   "outputs": [
    {
     "name": "stdout",
     "output_type": "stream",
     "text": [
      "C:\\Users\\J1009269\\Documents\\EFPS Spyro\\B100_test.dat\n"
     ]
    }
   ],
   "source": [
    "\n",
    "filename = \"B100_test.dat\"\n",
    "filename_folder = os.path.join(folder_location, filename)\n",
    "os.chdir(folder_location)\n",
    "print(filename_folder)"
   ]
  },
  {
   "cell_type": "code",
   "execution_count": 20,
   "metadata": {},
   "outputs": [
    {
     "name": "stdout",
     "output_type": "stream",
     "text": [
      "\r\n",
      "     SPYRO INPUT PROCESSING STARTS\r\n",
      "     *****************************\r\n",
      "\r\n",
      "\r\n",
      "\r\n",
      "     SPYRO - WARNING NR: 39\r\n",
      "\r\n",
      "     INLET TEMP ABOVE NORMAL RANGE - CHECK FEED CONVERSION                 \r\n",
      "\r\n",
      "\r\n",
      "\r\n",
      "     SPYRO INPUT FILE\r\n",
      "     ****************\r\n",
      "\r\n",
      "     TOTAL NUMBER OF  0 FATAL ERRORS DETECTED\r\n",
      "     TOTAL NUMBER OF  1 WARNINGS DETECTED\r\n",
      "\r\n",
      "\r\n",
      "\r\n",
      "     SPYRO INPUT PROCESSING ENDS\r\n",
      "     ***************************\r\n",
      "\r\n",
      "\r\n",
      "\r\n",
      "\r\n",
      "     SPYRO CALCULATIONS STARTED\r\n",
      "     **************************\r\n",
      "\r\n",
      "\r\n",
      "\r\n",
      "\r\n",
      "     CALCULATIONS FINALIZED\r\n",
      "     **********************\r\n",
      "\r\n",
      "\r\n",
      "     OUTPUT FILENAME(S) : \r\n",
      "\r\n",
      "\r\n",
      "       NORMAL  OUTPUT     FILE   -  B100_test.OUT                               \r\n",
      "\n",
      "\n"
     ]
    }
   ],
   "source": [
    "process = subprocess.Popen(\n",
    "    [spyro_exe_loc_name, filename],\n",
    "    stdout=subprocess.PIPE,\n",
    "    stderr=subprocess.PIPE,\n",
    "#     executable=True,\n",
    ")\n",
    "stdout, stderr = process.communicate()\n",
    "verbose = True\n",
    "if verbose:\n",
    "    print(stdout.decode())\n",
    "    print(stderr.decode())"
   ]
  },
  {
   "cell_type": "code",
   "execution_count": 7,
   "metadata": {},
   "outputs": [],
   "source": [
    "os.chdir(cwd)"
   ]
  },
  {
   "cell_type": "code",
   "execution_count": null,
   "metadata": {},
   "outputs": [],
   "source": []
  }
 ],
 "metadata": {
  "kernelspec": {
   "display_name": "Python 3",
   "language": "python",
   "name": "python3"
  },
  "language_info": {
   "codemirror_mode": {
    "name": "ipython",
    "version": 3
   },
   "file_extension": ".py",
   "mimetype": "text/x-python",
   "name": "python",
   "nbconvert_exporter": "python",
   "pygments_lexer": "ipython3",
   "version": "3.7.4"
  }
 },
 "nbformat": 4,
 "nbformat_minor": 2
}
